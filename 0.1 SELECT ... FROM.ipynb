{
 "cells": [
  {
   "cell_type": "markdown",
   "metadata": {},
   "source": [
    "# SELECT ... FROM"
   ]
  },
  {
   "cell_type": "code",
   "execution_count": 1,
   "metadata": {},
   "outputs": [],
   "source": [
    "QUERY=(\n",
    "'SELECT Name FROM `bigquery-public-data.pet_records.pets` '\n",
    "'WHERE Animal = \"Cat\"'\n",
    "'LIMIT 100')"
   ]
  },
  {
   "cell_type": "code",
   "execution_count": 2,
   "metadata": {},
   "outputs": [],
   "source": [
    "#Using global_air_quality\n",
    "\n",
    "from google.cloud import bigquery\n",
    "client = bigquery.Client.from_service_account_json(\"./My Project 61217-9183df10355d.json\")"
   ]
  },
  {
   "cell_type": "code",
   "execution_count": 4,
   "metadata": {},
   "outputs": [],
   "source": [
    "dataset_ref = client.dataset( 'openaq', project = 'bigquery-public-data')\n",
    "dataset = client.get_dataset(dataset_ref)"
   ]
  },
  {
   "cell_type": "code",
   "execution_count": 10,
   "metadata": {},
   "outputs": [
    {
     "name": "stdout",
     "output_type": "stream",
     "text": [
      "global_air_quality\n"
     ]
    }
   ],
   "source": [
    "tables = list(client.list_tables(dataset))\n",
    "for table in tables:\n",
    "    print(table.table_id)"
   ]
  },
  {
   "cell_type": "code",
   "execution_count": 16,
   "metadata": {},
   "outputs": [
    {
     "data": {
      "text/plain": [
       "[SchemaField('location', 'STRING', 'NULLABLE', 'Location where data was measured', ()),\n",
       " SchemaField('city', 'STRING', 'NULLABLE', 'City containing location', ()),\n",
       " SchemaField('country', 'STRING', 'NULLABLE', 'Country containing measurement in 2 letter ISO code', ()),\n",
       " SchemaField('pollutant', 'STRING', 'NULLABLE', 'Name of the Pollutant being measured. Allowed values: PM25, PM10, SO2, NO2, O3, CO, BC', ()),\n",
       " SchemaField('value', 'FLOAT', 'NULLABLE', 'Latest measured value for the pollutant', ()),\n",
       " SchemaField('timestamp', 'TIMESTAMP', 'NULLABLE', 'The datetime at which the pollutant was measured, in ISO 8601 format', ()),\n",
       " SchemaField('unit', 'STRING', 'NULLABLE', 'The unit the value was measured in coded by UCUM Code', ()),\n",
       " SchemaField('source_name', 'STRING', 'NULLABLE', 'Name of the source of the data', ()),\n",
       " SchemaField('latitude', 'FLOAT', 'NULLABLE', 'Latitude in decimal degrees. Precision >3 decimal points.', ()),\n",
       " SchemaField('longitude', 'FLOAT', 'NULLABLE', 'Longitude in decimal degrees. Precision >3 decimal points.', ()),\n",
       " SchemaField('averaged_over_in_hours', 'FLOAT', 'NULLABLE', 'The number of hours the value was averaged over.', ())]"
      ]
     },
     "execution_count": 16,
     "metadata": {},
     "output_type": "execute_result"
    }
   ],
   "source": [
    "table_ref = dataset_ref.table('global_air_quality')\n",
    "table = client.get_table(table_ref)\n",
    "table.schema"
   ]
  },
  {
   "cell_type": "code",
   "execution_count": 17,
   "metadata": {},
   "outputs": [
    {
     "data": {
      "text/html": [
       "<div>\n",
       "<style scoped>\n",
       "    .dataframe tbody tr th:only-of-type {\n",
       "        vertical-align: middle;\n",
       "    }\n",
       "\n",
       "    .dataframe tbody tr th {\n",
       "        vertical-align: top;\n",
       "    }\n",
       "\n",
       "    .dataframe thead th {\n",
       "        text-align: right;\n",
       "    }\n",
       "</style>\n",
       "<table border=\"1\" class=\"dataframe\">\n",
       "  <thead>\n",
       "    <tr style=\"text-align: right;\">\n",
       "      <th></th>\n",
       "      <th>location</th>\n",
       "      <th>city</th>\n",
       "      <th>country</th>\n",
       "      <th>pollutant</th>\n",
       "      <th>value</th>\n",
       "      <th>timestamp</th>\n",
       "      <th>unit</th>\n",
       "      <th>source_name</th>\n",
       "      <th>latitude</th>\n",
       "      <th>longitude</th>\n",
       "      <th>averaged_over_in_hours</th>\n",
       "    </tr>\n",
       "  </thead>\n",
       "  <tbody>\n",
       "    <tr>\n",
       "      <th>0</th>\n",
       "      <td>BTM Layout, Bengaluru - KSPCB</td>\n",
       "      <td>Bengaluru</td>\n",
       "      <td>IN</td>\n",
       "      <td>co</td>\n",
       "      <td>910.00</td>\n",
       "      <td>2018-02-22 03:00:00+00:00</td>\n",
       "      <td>µg/m³</td>\n",
       "      <td>CPCB</td>\n",
       "      <td>12.912811</td>\n",
       "      <td>77.60922</td>\n",
       "      <td>0.25</td>\n",
       "    </tr>\n",
       "    <tr>\n",
       "      <th>1</th>\n",
       "      <td>BTM Layout, Bengaluru - KSPCB</td>\n",
       "      <td>Bengaluru</td>\n",
       "      <td>IN</td>\n",
       "      <td>no2</td>\n",
       "      <td>131.87</td>\n",
       "      <td>2018-02-22 03:00:00+00:00</td>\n",
       "      <td>µg/m³</td>\n",
       "      <td>CPCB</td>\n",
       "      <td>12.912811</td>\n",
       "      <td>77.60922</td>\n",
       "      <td>0.25</td>\n",
       "    </tr>\n",
       "    <tr>\n",
       "      <th>2</th>\n",
       "      <td>BTM Layout, Bengaluru - KSPCB</td>\n",
       "      <td>Bengaluru</td>\n",
       "      <td>IN</td>\n",
       "      <td>o3</td>\n",
       "      <td>15.57</td>\n",
       "      <td>2018-02-22 03:00:00+00:00</td>\n",
       "      <td>µg/m³</td>\n",
       "      <td>CPCB</td>\n",
       "      <td>12.912811</td>\n",
       "      <td>77.60922</td>\n",
       "      <td>0.25</td>\n",
       "    </tr>\n",
       "    <tr>\n",
       "      <th>3</th>\n",
       "      <td>BTM Layout, Bengaluru - KSPCB</td>\n",
       "      <td>Bengaluru</td>\n",
       "      <td>IN</td>\n",
       "      <td>pm25</td>\n",
       "      <td>45.62</td>\n",
       "      <td>2018-02-22 03:00:00+00:00</td>\n",
       "      <td>µg/m³</td>\n",
       "      <td>CPCB</td>\n",
       "      <td>12.912811</td>\n",
       "      <td>77.60922</td>\n",
       "      <td>0.25</td>\n",
       "    </tr>\n",
       "    <tr>\n",
       "      <th>4</th>\n",
       "      <td>BTM Layout, Bengaluru - KSPCB</td>\n",
       "      <td>Bengaluru</td>\n",
       "      <td>IN</td>\n",
       "      <td>so2</td>\n",
       "      <td>4.49</td>\n",
       "      <td>2018-02-22 03:00:00+00:00</td>\n",
       "      <td>µg/m³</td>\n",
       "      <td>CPCB</td>\n",
       "      <td>12.912811</td>\n",
       "      <td>77.60922</td>\n",
       "      <td>0.25</td>\n",
       "    </tr>\n",
       "  </tbody>\n",
       "</table>\n",
       "</div>"
      ],
      "text/plain": [
       "                        location       city country pollutant   value  \\\n",
       "0  BTM Layout, Bengaluru - KSPCB  Bengaluru      IN        co  910.00   \n",
       "1  BTM Layout, Bengaluru - KSPCB  Bengaluru      IN       no2  131.87   \n",
       "2  BTM Layout, Bengaluru - KSPCB  Bengaluru      IN        o3   15.57   \n",
       "3  BTM Layout, Bengaluru - KSPCB  Bengaluru      IN      pm25   45.62   \n",
       "4  BTM Layout, Bengaluru - KSPCB  Bengaluru      IN       so2    4.49   \n",
       "\n",
       "                  timestamp   unit source_name   latitude  longitude  \\\n",
       "0 2018-02-22 03:00:00+00:00  µg/m³        CPCB  12.912811   77.60922   \n",
       "1 2018-02-22 03:00:00+00:00  µg/m³        CPCB  12.912811   77.60922   \n",
       "2 2018-02-22 03:00:00+00:00  µg/m³        CPCB  12.912811   77.60922   \n",
       "3 2018-02-22 03:00:00+00:00  µg/m³        CPCB  12.912811   77.60922   \n",
       "4 2018-02-22 03:00:00+00:00  µg/m³        CPCB  12.912811   77.60922   \n",
       "\n",
       "   averaged_over_in_hours  \n",
       "0                    0.25  \n",
       "1                    0.25  \n",
       "2                    0.25  \n",
       "3                    0.25  \n",
       "4                    0.25  "
      ]
     },
     "execution_count": 17,
     "metadata": {},
     "output_type": "execute_result"
    }
   ],
   "source": [
    "client.list_rows(table, max_results=5).to_dataframe()"
   ]
  },
  {
   "cell_type": "code",
   "execution_count": 20,
   "metadata": {},
   "outputs": [],
   "source": [
    "QUERY= \"\"\"\n",
    "        SELECT city \n",
    "        FROM `bigquery-public-data.openaq.global_air_quality` \n",
    "        WHERE country = \"US\"\n",
    "        \"\"\"\n"
   ]
  },
  {
   "cell_type": "code",
   "execution_count": 21,
   "metadata": {},
   "outputs": [],
   "source": [
    "# Submit the query to the dataset\n",
    "client = bigquery.Client.from_service_account_json(\"./My Project 61217-9183df10355d.json\")"
   ]
  },
  {
   "cell_type": "code",
   "execution_count": 22,
   "metadata": {},
   "outputs": [],
   "source": [
    "query_job = client.query(QUERY)"
   ]
  },
  {
   "cell_type": "code",
   "execution_count": 25,
   "metadata": {},
   "outputs": [
    {
     "data": {
      "text/html": [
       "<div>\n",
       "<style scoped>\n",
       "    .dataframe tbody tr th:only-of-type {\n",
       "        vertical-align: middle;\n",
       "    }\n",
       "\n",
       "    .dataframe tbody tr th {\n",
       "        vertical-align: top;\n",
       "    }\n",
       "\n",
       "    .dataframe thead th {\n",
       "        text-align: right;\n",
       "    }\n",
       "</style>\n",
       "<table border=\"1\" class=\"dataframe\">\n",
       "  <thead>\n",
       "    <tr style=\"text-align: right;\">\n",
       "      <th></th>\n",
       "      <th>city</th>\n",
       "    </tr>\n",
       "  </thead>\n",
       "  <tbody>\n",
       "    <tr>\n",
       "      <th>0</th>\n",
       "      <td>Houston</td>\n",
       "    </tr>\n",
       "    <tr>\n",
       "      <th>1</th>\n",
       "      <td>Houston</td>\n",
       "    </tr>\n",
       "    <tr>\n",
       "      <th>2</th>\n",
       "      <td>Houston</td>\n",
       "    </tr>\n",
       "    <tr>\n",
       "      <th>3</th>\n",
       "      <td>Houston</td>\n",
       "    </tr>\n",
       "    <tr>\n",
       "      <th>4</th>\n",
       "      <td>Houston</td>\n",
       "    </tr>\n",
       "  </tbody>\n",
       "</table>\n",
       "</div>"
      ],
      "text/plain": [
       "      city\n",
       "0  Houston\n",
       "1  Houston\n",
       "2  Houston\n",
       "3  Houston\n",
       "4  Houston"
      ]
     },
     "execution_count": 25,
     "metadata": {},
     "output_type": "execute_result"
    }
   ],
   "source": [
    "# return the pandas dataframe\n",
    "us_cities_df = query_job.to_dataframe()\n",
    "us_cities_df.head()"
   ]
  },
  {
   "cell_type": "code",
   "execution_count": 27,
   "metadata": {},
   "outputs": [
    {
     "data": {
      "text/plain": [
       "Phoenix-Mesa-Scottsdale                     87\n",
       "Houston                                     82\n",
       "Los Angeles-Long Beach-Santa Ana            63\n",
       "New York-Northern New Jersey-Long Island    60\n",
       "San Francisco-Oakland-Fremont               58\n",
       "Name: city, dtype: int64"
      ]
     },
     "execution_count": 27,
     "metadata": {},
     "output_type": "execute_result"
    }
   ],
   "source": [
    "us_cities_df.city.value_counts().head()"
   ]
  },
  {
   "cell_type": "code",
   "execution_count": 30,
   "metadata": {},
   "outputs": [],
   "source": [
    "# Selecting multiple columns\n",
    "QUERY= \"\"\"\n",
    "        SELECT city, country \n",
    "        FROM `bigquery-public-data.openaq.global_air_quality` \n",
    "        WHERE country = \"US\"\n",
    "        \"\"\""
   ]
  },
  {
   "cell_type": "code",
   "execution_count": 34,
   "metadata": {},
   "outputs": [
    {
     "data": {
      "text/html": [
       "<div>\n",
       "<style scoped>\n",
       "    .dataframe tbody tr th:only-of-type {\n",
       "        vertical-align: middle;\n",
       "    }\n",
       "\n",
       "    .dataframe tbody tr th {\n",
       "        vertical-align: top;\n",
       "    }\n",
       "\n",
       "    .dataframe thead th {\n",
       "        text-align: right;\n",
       "    }\n",
       "</style>\n",
       "<table border=\"1\" class=\"dataframe\">\n",
       "  <thead>\n",
       "    <tr style=\"text-align: right;\">\n",
       "      <th></th>\n",
       "      <th>city</th>\n",
       "      <th>country</th>\n",
       "    </tr>\n",
       "  </thead>\n",
       "  <tbody>\n",
       "    <tr>\n",
       "      <th>0</th>\n",
       "      <td>Houston</td>\n",
       "      <td>US</td>\n",
       "    </tr>\n",
       "    <tr>\n",
       "      <th>1</th>\n",
       "      <td>Houston</td>\n",
       "      <td>US</td>\n",
       "    </tr>\n",
       "    <tr>\n",
       "      <th>2</th>\n",
       "      <td>Houston</td>\n",
       "      <td>US</td>\n",
       "    </tr>\n",
       "    <tr>\n",
       "      <th>3</th>\n",
       "      <td>Houston</td>\n",
       "      <td>US</td>\n",
       "    </tr>\n",
       "    <tr>\n",
       "      <th>4</th>\n",
       "      <td>Houston</td>\n",
       "      <td>US</td>\n",
       "    </tr>\n",
       "  </tbody>\n",
       "</table>\n",
       "</div>"
      ],
      "text/plain": [
       "      city country\n",
       "0  Houston      US\n",
       "1  Houston      US\n",
       "2  Houston      US\n",
       "3  Houston      US\n",
       "4  Houston      US"
      ]
     },
     "execution_count": 34,
     "metadata": {},
     "output_type": "execute_result"
    }
   ],
   "source": [
    "query_job = client.query(QUERY)\n",
    "query_job.to_dataframe().head()"
   ]
  },
  {
   "cell_type": "code",
   "execution_count": 35,
   "metadata": {},
   "outputs": [],
   "source": [
    "# Select all the columns with *\n",
    "QUERY= \"\"\"\n",
    "        SELECT *\n",
    "        FROM `bigquery-public-data.openaq.global_air_quality` \n",
    "        WHERE country = \"US\"\n",
    "        \"\"\""
   ]
  },
  {
   "cell_type": "code",
   "execution_count": 36,
   "metadata": {},
   "outputs": [
    {
     "data": {
      "text/html": [
       "<div>\n",
       "<style scoped>\n",
       "    .dataframe tbody tr th:only-of-type {\n",
       "        vertical-align: middle;\n",
       "    }\n",
       "\n",
       "    .dataframe tbody tr th {\n",
       "        vertical-align: top;\n",
       "    }\n",
       "\n",
       "    .dataframe thead th {\n",
       "        text-align: right;\n",
       "    }\n",
       "</style>\n",
       "<table border=\"1\" class=\"dataframe\">\n",
       "  <thead>\n",
       "    <tr style=\"text-align: right;\">\n",
       "      <th></th>\n",
       "      <th>location</th>\n",
       "      <th>city</th>\n",
       "      <th>country</th>\n",
       "      <th>pollutant</th>\n",
       "      <th>value</th>\n",
       "      <th>timestamp</th>\n",
       "      <th>unit</th>\n",
       "      <th>source_name</th>\n",
       "      <th>latitude</th>\n",
       "      <th>longitude</th>\n",
       "      <th>averaged_over_in_hours</th>\n",
       "    </tr>\n",
       "  </thead>\n",
       "  <tbody>\n",
       "    <tr>\n",
       "      <th>0</th>\n",
       "      <td>Freeport South Avenue I C1012</td>\n",
       "      <td>Houston</td>\n",
       "      <td>US</td>\n",
       "      <td>so2</td>\n",
       "      <td>0.0001</td>\n",
       "      <td>2016-03-06 18:00:00+00:00</td>\n",
       "      <td>ppm</td>\n",
       "      <td>Texas</td>\n",
       "      <td>28.964430</td>\n",
       "      <td>-95.354830</td>\n",
       "      <td>1.0</td>\n",
       "    </tr>\n",
       "    <tr>\n",
       "      <th>1</th>\n",
       "      <td>Lake Jackson C1016</td>\n",
       "      <td>Houston</td>\n",
       "      <td>US</td>\n",
       "      <td>no2</td>\n",
       "      <td>-0.0004</td>\n",
       "      <td>2016-03-06 18:00:00+00:00</td>\n",
       "      <td>ppm</td>\n",
       "      <td>Texas</td>\n",
       "      <td>29.043758</td>\n",
       "      <td>-95.472946</td>\n",
       "      <td>1.0</td>\n",
       "    </tr>\n",
       "    <tr>\n",
       "      <th>2</th>\n",
       "      <td>Danciger C618</td>\n",
       "      <td>Houston</td>\n",
       "      <td>US</td>\n",
       "      <td>no2</td>\n",
       "      <td>0.0005</td>\n",
       "      <td>2016-03-06 17:00:00+00:00</td>\n",
       "      <td>ppm</td>\n",
       "      <td>Texas</td>\n",
       "      <td>29.144290</td>\n",
       "      <td>-95.756600</td>\n",
       "      <td>1.0</td>\n",
       "    </tr>\n",
       "    <tr>\n",
       "      <th>3</th>\n",
       "      <td>Danciger C618</td>\n",
       "      <td>Houston</td>\n",
       "      <td>US</td>\n",
       "      <td>o3</td>\n",
       "      <td>0.0460</td>\n",
       "      <td>2016-03-06 17:00:00+00:00</td>\n",
       "      <td>ppm</td>\n",
       "      <td>Texas</td>\n",
       "      <td>29.144290</td>\n",
       "      <td>-95.756600</td>\n",
       "      <td>1.0</td>\n",
       "    </tr>\n",
       "    <tr>\n",
       "      <th>4</th>\n",
       "      <td>Galveston 99th St. C1034/A320/X183</td>\n",
       "      <td>Houston</td>\n",
       "      <td>US</td>\n",
       "      <td>no2</td>\n",
       "      <td>0.0017</td>\n",
       "      <td>2016-03-06 19:00:00+00:00</td>\n",
       "      <td>ppm</td>\n",
       "      <td>Texas</td>\n",
       "      <td>29.254473</td>\n",
       "      <td>-94.861290</td>\n",
       "      <td>1.0</td>\n",
       "    </tr>\n",
       "  </tbody>\n",
       "</table>\n",
       "</div>"
      ],
      "text/plain": [
       "                             location     city country pollutant   value  \\\n",
       "0       Freeport South Avenue I C1012  Houston      US       so2  0.0001   \n",
       "1                  Lake Jackson C1016  Houston      US       no2 -0.0004   \n",
       "2                       Danciger C618  Houston      US       no2  0.0005   \n",
       "3                       Danciger C618  Houston      US        o3  0.0460   \n",
       "4  Galveston 99th St. C1034/A320/X183  Houston      US       no2  0.0017   \n",
       "\n",
       "                  timestamp unit source_name   latitude  longitude  \\\n",
       "0 2016-03-06 18:00:00+00:00  ppm       Texas  28.964430 -95.354830   \n",
       "1 2016-03-06 18:00:00+00:00  ppm       Texas  29.043758 -95.472946   \n",
       "2 2016-03-06 17:00:00+00:00  ppm       Texas  29.144290 -95.756600   \n",
       "3 2016-03-06 17:00:00+00:00  ppm       Texas  29.144290 -95.756600   \n",
       "4 2016-03-06 19:00:00+00:00  ppm       Texas  29.254473 -94.861290   \n",
       "\n",
       "   averaged_over_in_hours  \n",
       "0                     1.0  \n",
       "1                     1.0  \n",
       "2                     1.0  \n",
       "3                     1.0  \n",
       "4                     1.0  "
      ]
     },
     "execution_count": 36,
     "metadata": {},
     "output_type": "execute_result"
    }
   ],
   "source": [
    "query_job = client.query(QUERY)\n",
    "query_job.to_dataframe().head()"
   ]
  },
  {
   "cell_type": "markdown",
   "metadata": {},
   "source": [
    "# Big datasets"
   ]
  },
  {
   "cell_type": "markdown",
   "metadata": {},
   "source": [
    "- how much data a query can scan with QUeryJobConfig"
   ]
  },
  {
   "cell_type": "code",
   "execution_count": 41,
   "metadata": {},
   "outputs": [],
   "source": [
    "dataset_ref = client.dataset('hacker_news', project = 'bigquery-public-data')\n",
    "# API request -fetch dataset\n",
    "dataset = client.get_dataset(dataset_ref)"
   ]
  },
  {
   "cell_type": "code",
   "execution_count": 45,
   "metadata": {},
   "outputs": [],
   "source": [
    "query = \"\"\"\n",
    "        SELECT score , title\n",
    "        FROM `bigquery-public-data.hacker_news.full`\n",
    "        WHERE type = 'job'\n",
    "\n",
    "        \"\"\""
   ]
  },
  {
   "cell_type": "code",
   "execution_count": 46,
   "metadata": {},
   "outputs": [],
   "source": [
    "# Create a QueryJobConfig object to estimate size of query without runningit"
   ]
  },
  {
   "cell_type": "code",
   "execution_count": 49,
   "metadata": {},
   "outputs": [
    {
     "name": "stdout",
     "output_type": "stream",
     "text": [
      "this query will process 367900255 bytes\n"
     ]
    }
   ],
   "source": [
    "dry_run_config = bigquery.QueryJobConfig(dry_run=True)\n",
    "dry_run_query_job = client.query(query, job_config=dry_run_config)\n",
    "print('this query will process {} bytes'. format(dry_run_query_job.total_bytes_processed))"
   ]
  },
  {
   "cell_type": "code",
   "execution_count": 50,
   "metadata": {},
   "outputs": [],
   "source": [
    "ONE_MB = 1000*1000"
   ]
  },
  {
   "cell_type": "code",
   "execution_count": 51,
   "metadata": {},
   "outputs": [],
   "source": [
    "safe_config= bigquery.QueryJobConfig(maximum_bytes_billed=ONE_MB)"
   ]
  },
  {
   "cell_type": "code",
   "execution_count": 54,
   "metadata": {},
   "outputs": [],
   "source": [
    "safe_config_job = client.query(query, job_config=safe_config)"
   ]
  },
  {
   "cell_type": "code",
   "execution_count": null,
   "metadata": {},
   "outputs": [],
   "source": []
  }
 ],
 "metadata": {
  "kernelspec": {
   "display_name": "Python 3",
   "language": "python",
   "name": "python3"
  },
  "language_info": {
   "codemirror_mode": {
    "name": "ipython",
    "version": 3
   },
   "file_extension": ".py",
   "mimetype": "text/x-python",
   "name": "python",
   "nbconvert_exporter": "python",
   "pygments_lexer": "ipython3",
   "version": "3.7.4"
  }
 },
 "nbformat": 4,
 "nbformat_minor": 2
}
